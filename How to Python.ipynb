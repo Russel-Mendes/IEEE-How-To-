{
 "cells": [
  {
   "cell_type": "markdown",
   "metadata": {},
   "source": [
    "# IEEE How-To: Python\n",
    "Python is one of the hottest programming languages. It is high-level programming language used for general-purpose software engineering, used in in scripts, server logic, data science, and even in AI. Learning Python is an important skill to learn in today's increasingly digitized world. Come to the IEEE \"How-To:Python\" where we go over the basics of Python in a hands-on interactive session. From learning the basic core syntax to fundamental control structures, kick start your Python journey at this session. \n",
    "\n",
    "\n",
    "## Code Components\n",
    "\n",
    "- \"Hello World\"\n",
    "- Python Variables and Type\n",
    "- Operators\n",
    "- Lists\n",
    "- Conditions\n",
    "- Control Structures\n",
    "- Functions\n",
    "- Classes\n"
   ]
  },
  {
   "cell_type": "markdown",
   "metadata": {},
   "source": [
    "## \"Hello World\""
   ]
  },
  {
   "cell_type": "code",
   "execution_count": 1,
   "metadata": {},
   "outputs": [
    {
     "name": "stdout",
     "output_type": "stream",
     "text": [
      "Hello World\n"
     ]
    }
   ],
   "source": [
    "print(\"Hello World\")"
   ]
  },
  {
   "cell_type": "markdown",
   "metadata": {},
   "source": [
    "## Python Variables and Type\n",
    "- integers\n",
    "- floats\n",
    "- strings"
   ]
  },
  {
   "cell_type": "code",
   "execution_count": 72,
   "metadata": {},
   "outputs": [
    {
     "name": "stdout",
     "output_type": "stream",
     "text": [
      "5\n"
     ]
    }
   ],
   "source": [
    "#Setting a variable to an integer\n",
    "test_int_1 = 5\n",
    "print(test_int_1)"
   ]
  },
  {
   "cell_type": "code",
   "execution_count": 73,
   "metadata": {},
   "outputs": [
    {
     "name": "stdout",
     "output_type": "stream",
     "text": [
      "33.67952\n"
     ]
    }
   ],
   "source": [
    "#Setting a variable to a float\n",
    "test_float_1 = 33.67952\n",
    "print(test_float_1)"
   ]
  },
  {
   "cell_type": "code",
   "execution_count": 74,
   "metadata": {},
   "outputs": [
    {
     "name": "stdout",
     "output_type": "stream",
     "text": [
      "Welcome to IEEE\n"
     ]
    }
   ],
   "source": [
    "#Setting a variable to a string\n",
    "test_string_1 = \"Welcome to IEEE\"\n",
    "print(test_string_1)"
   ]
  },
  {
   "cell_type": "code",
   "execution_count": 20,
   "metadata": {},
   "outputs": [
    {
     "name": "stdout",
     "output_type": "stream",
     "text": [
      "1 2 3.1416 cheese\n"
     ]
    }
   ],
   "source": [
    "#Multi Variable Initalization\n",
    "one, two = 1,2\n",
    "pi, cheese = 3.1416, \"cheese\"\n",
    "print(one,two,pi,cheese)"
   ]
  },
  {
   "cell_type": "code",
   "execution_count": 75,
   "metadata": {},
   "outputs": [
    {
     "name": "stdout",
     "output_type": "stream",
     "text": [
      "Test Integer:  15\n",
      "Test Float:  15.0\n"
     ]
    }
   ],
   "source": [
    "#Converting Float to Integer\n",
    "test_int_2 = 15\n",
    "test_float_2 = float(test_int_2)\n",
    "print(\"Test Integer: \",test_int_2 )\n",
    "print(\"Test Float: \",test_float_2)"
   ]
  },
  {
   "cell_type": "code",
   "execution_count": 10,
   "metadata": {},
   "outputs": [
    {
     "name": "stdout",
     "output_type": "stream",
     "text": [
      "Test Integer:  33\n",
      "Test Float:  33.567\n"
     ]
    }
   ],
   "source": [
    "#Converting Integer to Float\n",
    "test_float_3 = 33.567\n",
    "test_int_3 = int(test_float_3)\n",
    "print(\"Test Integer: \",test_int_3 )\n",
    "print(\"Test Float: \",test_float_3)"
   ]
  },
  {
   "cell_type": "code",
   "execution_count": 22,
   "metadata": {},
   "outputs": [
    {
     "name": "stdout",
     "output_type": "stream",
     "text": [
      "Test Integer:  10\n",
      "Test Float:  10.057\n",
      "Test String:  10.057\n"
     ]
    }
   ],
   "source": [
    "#Converting Integer,Float to String\n",
    "test_int_4 = 10\n",
    "test_float_4 = 10.057\n",
    "test_string_1 = str(test_float_4)\n",
    "print(\"Test Integer: \",test_int_4 )\n",
    "print(\"Test Float: \",test_float_4 )\n",
    "print(\"Test String: \",test_string_1)"
   ]
  },
  {
   "cell_type": "code",
   "execution_count": 25,
   "metadata": {},
   "outputs": [
    {
     "name": "stdout",
     "output_type": "stream",
     "text": [
      "Test Integer:  3\n",
      "Test Float:  3.0\n",
      "Test String:  3\n"
     ]
    }
   ],
   "source": [
    "#Converting String to Integer,Float\n",
    "test_string_g = \"3\"\n",
    "test_int_5 = int(test_string_pi)\n",
    "test_float_5 = float(test_string_pi)\n",
    "test_string_1 = str(test_float_4)\n",
    "\n",
    "print(\"Test Integer: \",test_int_5 )\n",
    "print(\"Test Float: \",test_float_5 )\n",
    "print(\"Test String: \",test_string_g)"
   ]
  },
  {
   "cell_type": "code",
   "execution_count": null,
   "metadata": {},
   "outputs": [],
   "source": [
    "#Converting String to Integer,Float\n",
    "test_string_g = \"3.1415\"\n",
    "test_int_5 = int(test_string_pi)\n",
    "test_float_5 = float(test_string_pi)\n",
    "test_string_1 = str(test_float_4)\n",
    "\n",
    "print(\"Test Integer: \",test_int_5 )\n",
    "print(\"Test Float: \",test_float_5 )\n",
    "print(\"Test String: \",test_string_g)"
   ]
  },
  {
   "cell_type": "code",
   "execution_count": 13,
   "metadata": {},
   "outputs": [
    {
     "name": "stdout",
     "output_type": "stream",
     "text": [
      "The Value of Three is:  3\n"
     ]
    }
   ],
   "source": [
    "#Adding Integers\n",
    "one = 1\n",
    "two = 2\n",
    "three = one + two \n",
    "print(\"The Value of Three is: \", three)"
   ]
  },
  {
   "cell_type": "code",
   "execution_count": 14,
   "metadata": {},
   "outputs": [
    {
     "name": "stdout",
     "output_type": "stream",
     "text": [
      "The Value of Val3 is:  1156.6302046\n"
     ]
    }
   ],
   "source": [
    "#Adding Floats\n",
    "val1 = 1153.484856\n",
    "val2 = 3.1453486\n",
    "val3 = val1 + val2 \n",
    "print(\"The Value of Val3 is: \", val3)"
   ]
  },
  {
   "cell_type": "code",
   "execution_count": 16,
   "metadata": {},
   "outputs": [
    {
     "name": "stdout",
     "output_type": "stream",
     "text": [
      "Type Value of Val3 is:  4.1453486\n"
     ]
    }
   ],
   "source": [
    "#Adding Floats and Integers\n",
    "one = 1\n",
    "val2 = 3.1453486\n",
    "val3 = one + val2 \n",
    "print(\"Type Value of Val3 is: \", val3)"
   ]
  },
  {
   "cell_type": "code",
   "execution_count": 17,
   "metadata": {},
   "outputs": [
    {
     "name": "stdout",
     "output_type": "stream",
     "text": [
      "Type Value of Val3 is:  Hello World\n"
     ]
    }
   ],
   "source": [
    "#Adding Strings\n",
    "val1 = \"Hello \"\n",
    "val2 = \"World\"\n",
    "val3 = val1 + val2\n",
    "print(\"Type Value of Val3 is: \", val3)"
   ]
  },
  {
   "cell_type": "code",
   "execution_count": null,
   "metadata": {},
   "outputs": [],
   "source": [
    "#Adding Strings, Integers and Floats\n",
    "val1 = 1\n",
    "val2 = 3.45443\n",
    "val3 = \"Hello World\"\n",
    "print(\"Type Value of is: \", val3+val2+val1)"
   ]
  },
  {
   "cell_type": "code",
   "execution_count": 76,
   "metadata": {},
   "outputs": [
    {
     "name": "stdout",
     "output_type": "stream",
     "text": [
      "1, 3.45443, Hello World\n"
     ]
    }
   ],
   "source": [
    "#%s - String (or any object with a string representation, like numbers)\n",
    "#%d - Integers\n",
    "#%f - Floating point numbers\n",
    "val1 = 1\n",
    "val2 = 3.45443\n",
    "val3 = \"Hello World\"\n",
    "super_string = \"%s, %s, %s\" % (val1, val2, val3)\n",
    "print(super_string)"
   ]
  },
  {
   "cell_type": "markdown",
   "metadata": {},
   "source": [
    "## Operators"
   ]
  },
  {
   "cell_type": "code",
   "execution_count": 37,
   "metadata": {},
   "outputs": [
    {
     "name": "stdout",
     "output_type": "stream",
     "text": [
      "A+B =  18\n",
      "B+A =  18\n"
     ]
    }
   ],
   "source": [
    "#Addition\n",
    "a = 5\n",
    "b = 13\n",
    "print(\"A+B = \", a+b)\n",
    "print(\"B+A = \", b+a)"
   ]
  },
  {
   "cell_type": "code",
   "execution_count": 42,
   "metadata": {},
   "outputs": [
    {
     "name": "stdout",
     "output_type": "stream",
     "text": [
      "A-B =  -82\n",
      "B-A =  82\n"
     ]
    }
   ],
   "source": [
    "#Subtraction\n",
    "a = 17\n",
    "b = 99\n",
    "print(\"A-B = \", a-b)\n",
    "print(\"B-A = \", b-a)"
   ]
  },
  {
   "cell_type": "code",
   "execution_count": 39,
   "metadata": {},
   "outputs": [
    {
     "name": "stdout",
     "output_type": "stream",
     "text": [
      "A//B =  2\n",
      "B//A =  0\n"
     ]
    }
   ],
   "source": [
    "#Integer Division \n",
    "a = 7\n",
    "b = 3\n",
    "print(\"A//B = \", a//b)\n",
    "print(\"B//A = \", b//a)"
   ]
  },
  {
   "cell_type": "code",
   "execution_count": 40,
   "metadata": {},
   "outputs": [
    {
     "name": "stdout",
     "output_type": "stream",
     "text": [
      "A/B =  2.3333333333333335\n",
      "B/A =  0.42857142857142855\n"
     ]
    }
   ],
   "source": [
    "#Float Division\n",
    "a = 7\n",
    "b = 3\n",
    "print(\"A/B = \", a/b)\n",
    "print(\"B/A = \", b/a)"
   ]
  },
  {
   "cell_type": "code",
   "execution_count": 43,
   "metadata": {},
   "outputs": [
    {
     "name": "stdout",
     "output_type": "stream",
     "text": [
      "A*B =  195\n",
      "B*A =  195\n"
     ]
    }
   ],
   "source": [
    "#Multiplication \n",
    "a = 15\n",
    "b = 13\n",
    "print(\"A*B = \", a*b)\n",
    "print(\"B*A = \", b*a)"
   ]
  },
  {
   "cell_type": "code",
   "execution_count": 44,
   "metadata": {},
   "outputs": [
    {
     "name": "stdout",
     "output_type": "stream",
     "text": [
      "A%C =  3\n",
      "B%A =  42\n",
      "B%C =  0\n"
     ]
    }
   ],
   "source": [
    "#Modulous\n",
    "a = 87\n",
    "b = 42\n",
    "c = 7\n",
    "print(\"A%C = \", a%c)\n",
    "print(\"B%A = \", b%a)\n",
    "print(\"B%C = \", b%c)"
   ]
  },
  {
   "cell_type": "code",
   "execution_count": 46,
   "metadata": {},
   "outputs": [
    {
     "name": "stdout",
     "output_type": "stream",
     "text": [
      "A**B =  405224\n",
      "B**A =  202755595904452569706561330872953769\n"
     ]
    }
   ],
   "source": [
    "#Exponents\n",
    "a = 74\n",
    "b = 3\n",
    "print(\"A**B = \", a**b)\n",
    "print(\"B**A = \", b**a)"
   ]
  },
  {
   "cell_type": "markdown",
   "metadata": {},
   "source": [
    "## Lists"
   ]
  },
  {
   "cell_type": "code",
   "execution_count": 65,
   "metadata": {},
   "outputs": [
    {
     "name": "stdout",
     "output_type": "stream",
     "text": [
      "Array:  []\n",
      "Array:  [15, 3]\n"
     ]
    }
   ],
   "source": [
    "#Initializing\n",
    "array = []\n",
    "print(\"Array: \", array)\n",
    "array = [15,3]\n",
    "print(\"Array: \", array)"
   ]
  },
  {
   "cell_type": "code",
   "execution_count": 66,
   "metadata": {},
   "outputs": [
    {
     "name": "stdout",
     "output_type": "stream",
     "text": [
      "Array:  [15, 3, 78]\n"
     ]
    }
   ],
   "source": [
    "#Appending Arrays\n",
    "array.append(78)\n",
    "print(\"Array: \", array)"
   ]
  },
  {
   "cell_type": "code",
   "execution_count": 67,
   "metadata": {},
   "outputs": [
    {
     "name": "stdout",
     "output_type": "stream",
     "text": [
      "Array:  [15, 3]\n"
     ]
    }
   ],
   "source": [
    "#Removing Items via Pop\n",
    "array.pop()\n",
    "print(\"Array: \", array)"
   ]
  },
  {
   "cell_type": "code",
   "execution_count": 68,
   "metadata": {},
   "outputs": [
    {
     "name": "stdout",
     "output_type": "stream",
     "text": [
      "Array:  [3]\n"
     ]
    }
   ],
   "source": [
    "#Removing Items via \"Remove\"\n",
    "array.remove(15)\n",
    "print(\"Array: \", array)"
   ]
  },
  {
   "cell_type": "code",
   "execution_count": 69,
   "metadata": {},
   "outputs": [
    {
     "name": "stdout",
     "output_type": "stream",
     "text": [
      "Array:  []\n"
     ]
    }
   ],
   "source": [
    "#Removing Items via \"Del\"\n",
    "del array[0]\n",
    "print(\"Array: \", array)"
   ]
  },
  {
   "cell_type": "code",
   "execution_count": 77,
   "metadata": {},
   "outputs": [
    {
     "name": "stdout",
     "output_type": "stream",
     "text": [
      "Array:  [5, 6, 5, 16, 5, 3, 8, 9]\n",
      "Length of Arrays:  8\n",
      "Array @ 0:  5\n",
      "Array @ 1:  6\n",
      "Array @ 2:  5\n",
      "Array @ 3:  16\n",
      "Array @ 4:  5\n",
      "Slice of Array:  [5, 6, 5, 16, 5]\n"
     ]
    }
   ],
   "source": [
    "#Properities\n",
    "array = [5,6,5,16, 5,3,8,9]\n",
    "\n",
    "print(\"Array: \", array)\n",
    "print(\"Length of Arrays: \", len(array))\n",
    "print(\"Array @ 0: \", array[0])\n",
    "print(\"Array @ 1: \", array[1])\n",
    "print(\"Array @ 2: \", array[2])\n",
    "print(\"Array @ 3: \", array[3])\n",
    "print(\"Array @ 4: \", array[4])\n",
    "print(\"Slice of Array: \", array[0:5])"
   ]
  },
  {
   "cell_type": "markdown",
   "metadata": {},
   "source": [
    "## Conditions"
   ]
  },
  {
   "cell_type": "code",
   "execution_count": 87,
   "metadata": {},
   "outputs": [
    {
     "name": "stdout",
     "output_type": "stream",
     "text": [
      "Is Zero = 0 :: True\n",
      "Is Zero = Zero :: True\n",
      "Is True :: True\n",
      "Is Zero nothing :: True\n"
     ]
    }
   ],
   "source": [
    "#True Condition\n",
    "zero = 0\n",
    "print(\"Is Zero = 0 ::\", zero == 0)\n",
    "print(\"Is Zero = Zero ::\",zero == zero)\n",
    "print(\"Is True ::\",True)\n",
    "print(\"Is Zero nothing ::\",zero is not None)"
   ]
  },
  {
   "cell_type": "code",
   "execution_count": 88,
   "metadata": {},
   "outputs": [
    {
     "name": "stdout",
     "output_type": "stream",
     "text": [
      "Is Zero = 1 :: False\n",
      "Is Zero = Zero :: False\n",
      "Is False :: False\n",
      "Is Zero nothing :: False\n"
     ]
    }
   ],
   "source": [
    "#False Condition\n",
    "zero = 0\n",
    "print(\"Is Zero = 1 ::\", zero == 1)\n",
    "print(\"Is Zero = Zero ::\",zero != zero)\n",
    "print(\"Is False ::\",False)\n",
    "print(\"Is Zero nothing ::\",zero is None)"
   ]
  },
  {
   "cell_type": "code",
   "execution_count": 91,
   "metadata": {},
   "outputs": [
    {
     "name": "stdout",
     "output_type": "stream",
     "text": [
      "One = 1 and One = 0 :: False\n",
      "One = 1 or  One = 0 :: True\n"
     ]
    }
   ],
   "source": [
    "#Multi Conditional\n",
    "print(\"One = 1 and One = 0 ::\", 1 == 1 and 1 == 0)\n",
    "print(\"One = 1 or  One = 0 ::\", 1 == 1 or 1 == 0)"
   ]
  },
  {
   "cell_type": "markdown",
   "metadata": {},
   "source": [
    "## Control Structures"
   ]
  },
  {
   "cell_type": "code",
   "execution_count": 94,
   "metadata": {},
   "outputs": [
    {
     "name": "stdout",
     "output_type": "stream",
     "text": [
      "I am True\n",
      "I am Done\n"
     ]
    }
   ],
   "source": [
    "#If Statement\n",
    "statement = True\n",
    "\n",
    "if(statement):\n",
    "    print(\"I am True\")\n",
    "    \n",
    "print(\"I am Done\")"
   ]
  },
  {
   "cell_type": "code",
   "execution_count": 96,
   "metadata": {},
   "outputs": [
    {
     "name": "stdout",
     "output_type": "stream",
     "text": [
      "statement is False\n",
      "I am Done\n"
     ]
    }
   ],
   "source": [
    "#If Else Statement\n",
    "statement = False\n",
    "\n",
    "if(statement):\n",
    "    print(\"statement is True\")\n",
    "else:\n",
    "    print(\"statement is False\")\n",
    "    \n",
    "print(\"I am Done\")"
   ]
  },
  {
   "cell_type": "code",
   "execution_count": 100,
   "metadata": {},
   "outputs": [
    {
     "name": "stdout",
     "output_type": "stream",
     "text": [
      "statement is False but I will change it\n",
      "I am Done\n",
      "Statement is : True\n"
     ]
    }
   ],
   "source": [
    "#If Elif Else Statement\n",
    "statement = False\n",
    "change = True\n",
    "\n",
    "if(statement):\n",
    "    print(\"statement is True\")\n",
    "elif(change):\n",
    "    print(\"statement is False but I will change it\")\n",
    "    statement = change\n",
    "else:\n",
    "    print(\"statement is False\")\n",
    "    \n",
    "print(\"I am Done\")\n",
    "print(\"Statement is :\", statement)"
   ]
  },
  {
   "cell_type": "code",
   "execution_count": 102,
   "metadata": {},
   "outputs": [
    {
     "name": "stdout",
     "output_type": "stream",
     "text": [
      "1\n",
      "2\n",
      "3\n",
      "4\n",
      "5\n"
     ]
    }
   ],
   "source": [
    "#While counter\n",
    "i = 0\n",
    "while(i < 5):\n",
    "    i = i +1\n",
    "    print(i)"
   ]
  },
  {
   "cell_type": "code",
   "execution_count": 104,
   "metadata": {},
   "outputs": [
    {
     "name": "stdout",
     "output_type": "stream",
     "text": [
      "0 1\n",
      "2 2\n",
      "4 3\n",
      "6 4\n",
      "8 5\n",
      "10 6\n",
      "12 7\n",
      "14 8\n",
      "16 9\n",
      "18 10\n",
      "There is 10 even pairs\n",
      "I am Done\n"
     ]
    }
   ],
   "source": [
    "i = 0\n",
    "j = 0\n",
    "MAX =50\n",
    "while(True):\n",
    "    if(i%2 == 0):\n",
    "        j +=1\n",
    "        print(i,j)\n",
    "    if(j == 10):\n",
    "        print(\"There is 10 even pairs\")\n",
    "        break\n",
    "    if(i ==MAX):\n",
    "        print(\"i hit its max\")\n",
    "        break\n",
    "    i+=1\n",
    "print(\"I am Done\")"
   ]
  },
  {
   "cell_type": "code",
   "execution_count": 110,
   "metadata": {},
   "outputs": [
    {
     "name": "stdout",
     "output_type": "stream",
     "text": [
      "0\n",
      "1\n",
      "2\n",
      "3\n",
      "4\n"
     ]
    }
   ],
   "source": [
    "#For range  \n",
    "array = []\n",
    "for i in range(5): \n",
    "    array.append(i)\n",
    "    print(i)"
   ]
  },
  {
   "cell_type": "code",
   "execution_count": 112,
   "metadata": {},
   "outputs": [
    {
     "name": "stdout",
     "output_type": "stream",
     "text": [
      "Array:  [0, 1, 2, 3, 4]\n",
      "0\n",
      "1\n",
      "2\n",
      "3\n",
      "4\n"
     ]
    }
   ],
   "source": [
    "#For array  \n",
    "print(\"Array: \", array)\n",
    "\n",
    "for i in array:    \n",
    "    print(i)"
   ]
  },
  {
   "cell_type": "markdown",
   "metadata": {},
   "source": [
    "## Functions"
   ]
  },
  {
   "cell_type": "code",
   "execution_count": 117,
   "metadata": {},
   "outputs": [],
   "source": [
    "def add(a, b):\n",
    "    return a + b\n",
    "\n",
    "def divide(a, b):\n",
    "    return a/b\n",
    "\n",
    "def multiply(a, b):\n",
    "    return a*b\n",
    "\n",
    "def subtract(a, b):\n",
    "    return a-b\n",
    "\n",
    "\n",
    "def doNothing(statement = \"hi\"):\n",
    "    i = 0\n",
    "    while(True):\n",
    "        i +=1\n",
    "        print(statement)\n",
    "        if i == 30:\n",
    "            break\n",
    "    \n"
   ]
  },
  {
   "cell_type": "code",
   "execution_count": 118,
   "metadata": {},
   "outputs": [
    {
     "name": "stdout",
     "output_type": "stream",
     "text": [
      "Addition 25\n",
      "Division 0.6666666666666666\n",
      "Multiply 150\n",
      "Subtract -5\n"
     ]
    }
   ],
   "source": [
    "a = 10\n",
    "b = 15\n",
    "print(\"Addition\", add(a, b))\n",
    "print(\"Division\", divide(a, b))\n",
    "print(\"Multiply\", multiply(a, b))\n",
    "print(\"Subtract\", subtract(a, b))"
   ]
  },
  {
   "cell_type": "code",
   "execution_count": 119,
   "metadata": {},
   "outputs": [
    {
     "name": "stdout",
     "output_type": "stream",
     "text": [
      "hi\n",
      "hi\n",
      "hi\n",
      "hi\n",
      "hi\n",
      "hi\n",
      "hi\n",
      "hi\n",
      "hi\n",
      "hi\n",
      "hi\n",
      "hi\n",
      "hi\n",
      "hi\n",
      "hi\n",
      "hi\n",
      "hi\n",
      "hi\n",
      "hi\n",
      "hi\n",
      "hi\n",
      "hi\n",
      "hi\n",
      "hi\n",
      "hi\n",
      "hi\n",
      "hi\n",
      "hi\n",
      "hi\n",
      "hi\n",
      "hi\n",
      "hi\n",
      "hi\n",
      "hi\n",
      "hi\n",
      "hi\n",
      "hi\n",
      "hi\n",
      "hi\n",
      "hi\n",
      "hi\n",
      "hi\n",
      "hi\n",
      "hi\n",
      "hi\n",
      "hi\n",
      "hi\n",
      "hi\n",
      "hi\n",
      "hi\n",
      "hi\n",
      "hi\n",
      "hi\n",
      "hi\n",
      "hi\n",
      "hi\n",
      "hi\n",
      "hi\n",
      "hi\n",
      "hi\n",
      "hi\n",
      "hi\n",
      "hi\n",
      "hi\n",
      "hi\n",
      "hi\n",
      "hi\n",
      "hi\n",
      "hi\n",
      "hi\n",
      "hi\n",
      "hi\n",
      "hi\n",
      "hi\n",
      "hi\n",
      "hi\n",
      "hi\n",
      "hi\n",
      "hi\n",
      "hi\n",
      "hi\n",
      "hi\n",
      "hi\n",
      "hi\n",
      "hi\n",
      "hi\n",
      "hi\n",
      "hi\n",
      "hi\n",
      "hi\n",
      "hi\n",
      "hi\n",
      "hi\n",
      "hi\n",
      "hi\n",
      "hi\n",
      "hi\n",
      "hi\n",
      "hi\n",
      "hi\n",
      "hi\n",
      "hi\n",
      "hi\n",
      "hi\n",
      "hi\n",
      "hi\n",
      "hi\n",
      "hi\n",
      "hi\n",
      "hi\n",
      "hi\n",
      "hi\n",
      "hi\n",
      "hi\n",
      "hi\n",
      "hi\n",
      "hi\n",
      "hi\n",
      "hi\n",
      "hi\n",
      "hi\n",
      "hi\n",
      "hi\n",
      "hi\n",
      "hi\n",
      "hi\n",
      "hi\n",
      "hi\n",
      "hi\n",
      "hi\n",
      "hi\n",
      "hi\n",
      "hi\n",
      "hi\n",
      "hi\n",
      "hi\n",
      "hi\n",
      "hi\n",
      "hi\n",
      "hi\n",
      "hi\n",
      "hi\n",
      "hi\n",
      "hi\n",
      "hi\n",
      "hi\n",
      "hi\n",
      "hi\n",
      "hi\n",
      "hi\n",
      "hi\n",
      "hi\n",
      "hi\n",
      "hi\n",
      "hi\n",
      "hi\n",
      "hi\n",
      "hi\n",
      "hi\n",
      "hi\n",
      "hi\n",
      "hi\n",
      "hi\n",
      "hi\n",
      "hi\n",
      "hi\n",
      "hi\n",
      "hi\n",
      "hi\n",
      "hi\n",
      "hi\n",
      "hi\n",
      "hi\n",
      "hi\n",
      "hi\n",
      "hi\n",
      "hi\n",
      "hi\n",
      "hi\n",
      "hi\n",
      "hi\n",
      "hi\n",
      "hi\n",
      "hi\n",
      "hi\n",
      "hi\n",
      "hi\n",
      "hi\n",
      "hi\n",
      "hi\n",
      "hi\n",
      "hi\n",
      "hi\n",
      "hi\n",
      "hi\n",
      "hi\n",
      "hi\n",
      "hi\n",
      "hi\n",
      "hi\n",
      "hi\n",
      "hi\n",
      "hi\n",
      "hi\n",
      "hi\n",
      "hi\n",
      "hi\n",
      "hi\n",
      "hi\n",
      "hi\n",
      "hi\n",
      "hi\n",
      "hi\n",
      "hi\n",
      "hi\n",
      "hi\n",
      "hi\n",
      "hi\n",
      "hi\n",
      "hi\n",
      "hi\n",
      "hi\n",
      "hi\n",
      "hi\n",
      "hi\n",
      "hi\n",
      "hi\n",
      "hi\n",
      "hi\n",
      "hi\n",
      "hi\n",
      "hi\n",
      "hi\n",
      "hi\n",
      "hi\n",
      "hi\n",
      "hi\n",
      "hi\n",
      "hi\n",
      "hi\n",
      "hi\n",
      "hi\n",
      "hi\n",
      "hi\n",
      "hi\n",
      "hi\n",
      "hi\n",
      "hi\n",
      "hi\n",
      "hi\n",
      "hi\n",
      "hi\n",
      "hi\n",
      "hi\n",
      "hi\n",
      "hi\n",
      "hi\n",
      "hi\n",
      "hi\n",
      "hi\n",
      "hi\n",
      "hi\n",
      "hi\n",
      "hi\n",
      "hi\n",
      "hi\n",
      "hi\n",
      "hi\n",
      "hi\n",
      "hi\n",
      "hi\n",
      "hi\n",
      "hi\n",
      "hi\n",
      "hi\n",
      "hi\n",
      "hi\n",
      "hi\n",
      "hi\n",
      "hi\n",
      "hi\n",
      "hi\n",
      "hi\n",
      "hi\n",
      "hi\n",
      "hi\n",
      "hi\n",
      "hi\n",
      "hi\n",
      "hi\n",
      "hi\n",
      "hi\n",
      "hi\n",
      "hi\n",
      "hi\n",
      "hi\n",
      "hi\n",
      "hi\n",
      "hi\n",
      "hi\n",
      "hi\n",
      "hi\n",
      "hi\n",
      "hi\n",
      "hi\n",
      "hi\n",
      "hi\n",
      "hi\n",
      "hi\n",
      "hi\n",
      "hi\n",
      "hi\n",
      "hi\n",
      "hi\n",
      "hi\n",
      "hi\n",
      "hi\n",
      "hi\n",
      "hi\n",
      "hi\n",
      "hi\n",
      "hi\n",
      "hi\n",
      "hi\n",
      "hi\n",
      "hi\n",
      "hi\n",
      "hi\n",
      "hi\n",
      "hi\n",
      "hi\n",
      "hi\n",
      "hi\n",
      "hi\n",
      "hi\n",
      "hi\n",
      "hi\n",
      "hi\n",
      "hi\n",
      "hi\n",
      "hi\n",
      "hi\n",
      "hi\n",
      "hi\n",
      "hi\n",
      "hi\n",
      "hi\n",
      "hi\n",
      "hi\n",
      "hi\n",
      "hi\n",
      "hi\n",
      "hi\n",
      "hi\n",
      "hi\n",
      "hi\n",
      "hi\n",
      "hi\n",
      "hi\n",
      "hi\n",
      "hi\n",
      "hi\n",
      "hi\n",
      "hi\n",
      "hi\n",
      "hi\n",
      "hi\n",
      "hi\n",
      "hi\n",
      "hi\n",
      "hi\n",
      "hi\n",
      "hi\n",
      "hi\n",
      "hi\n",
      "hi\n",
      "hi\n",
      "hi\n",
      "hi\n",
      "hi\n",
      "hi\n",
      "hi\n",
      "hi\n",
      "hi\n",
      "hi\n",
      "hi\n",
      "hi\n",
      "hi\n",
      "hi\n",
      "hi\n",
      "hi\n",
      "hi\n",
      "hi\n",
      "hi\n",
      "hi\n",
      "hi\n",
      "hi\n",
      "hi\n",
      "hi\n",
      "hi\n",
      "hi\n",
      "hi\n",
      "hi\n",
      "hi\n",
      "hi\n",
      "hi\n",
      "hi\n",
      "hi\n",
      "hi\n",
      "hi\n",
      "hi\n",
      "hi\n",
      "hi\n",
      "hi\n",
      "hi\n",
      "hi\n",
      "hi\n",
      "hi\n",
      "hi\n",
      "hi\n",
      "hi\n",
      "hi\n",
      "hi\n",
      "hi\n",
      "hi\n",
      "hi\n",
      "hi\n",
      "hi\n",
      "hi\n",
      "hi\n",
      "hi\n",
      "hi\n",
      "hi\n",
      "hi\n",
      "hi\n",
      "hi\n",
      "hi\n",
      "hi\n",
      "hi\n",
      "hi\n",
      "hi\n",
      "hi\n",
      "hi\n",
      "hi\n",
      "hi\n",
      "hi\n",
      "hi\n",
      "hi\n",
      "hi\n",
      "hi\n",
      "hi\n",
      "hi\n",
      "hi\n",
      "hi\n",
      "hi\n",
      "hi\n",
      "hi\n",
      "hi\n",
      "hi\n",
      "hi\n",
      "hi\n",
      "hi\n",
      "hi\n",
      "hi\n",
      "hi\n",
      "hi\n",
      "hi\n",
      "hi\n",
      "hi\n",
      "hi\n",
      "hi\n",
      "hi\n",
      "hi\n",
      "hi\n",
      "hi\n",
      "hi\n",
      "hi\n",
      "hi\n",
      "hi\n",
      "hi\n",
      "hi\n",
      "hi\n",
      "hi\n",
      "hi\n",
      "hi\n",
      "hi\n",
      "hi\n",
      "hi\n",
      "hi\n",
      "hi\n",
      "hi\n",
      "hi\n",
      "hi\n",
      "hi\n",
      "hi\n",
      "hi\n",
      "hi\n",
      "hi\n",
      "hi\n",
      "hi\n",
      "hi\n",
      "hi\n",
      "hi\n",
      "hi\n",
      "hi\n",
      "hi\n",
      "hi\n",
      "hi\n",
      "hi\n",
      "hi\n",
      "hi\n",
      "hi\n",
      "hi\n",
      "hi\n",
      "hi\n",
      "hi\n",
      "hi\n",
      "hi\n",
      "hi\n",
      "hi\n",
      "hi\n",
      "hi\n",
      "hi\n",
      "hi\n",
      "hi\n",
      "hi\n",
      "hi\n",
      "hi\n",
      "hi\n",
      "hi\n",
      "hi\n",
      "hi\n",
      "hi\n",
      "hi\n",
      "hi\n",
      "hi\n",
      "hi\n",
      "hi\n",
      "hi\n",
      "hi\n",
      "hi\n",
      "hi\n",
      "hi\n",
      "hi\n",
      "hi\n",
      "hi\n",
      "hi\n",
      "hi\n",
      "hi\n",
      "hi\n",
      "hi\n",
      "hi\n",
      "hi\n",
      "hi\n",
      "hi\n",
      "hi\n",
      "hi\n",
      "hi\n",
      "hi\n",
      "hi\n",
      "hi\n",
      "hi\n",
      "hi\n",
      "hi\n",
      "hi\n",
      "hi\n",
      "hi\n",
      "hi\n",
      "hi\n",
      "hi\n",
      "hi\n",
      "hi\n",
      "hi\n",
      "hi\n",
      "hi\n",
      "hi\n",
      "hi\n",
      "hi\n",
      "hi\n",
      "hi\n",
      "hi\n",
      "hi\n",
      "hi\n",
      "hi\n",
      "hi\n",
      "hi\n",
      "hi\n",
      "hi\n",
      "hi\n",
      "hi\n",
      "hi\n",
      "hi\n",
      "hi\n",
      "hi\n",
      "hi\n",
      "hi\n",
      "hi\n",
      "hi\n",
      "hi\n",
      "hi\n",
      "hi\n",
      "hi\n",
      "hi\n",
      "hi\n",
      "hi\n",
      "hi\n",
      "hi\n",
      "hi\n",
      "hi\n",
      "hi\n",
      "hi\n",
      "hi\n",
      "hi\n",
      "hi\n",
      "hi\n",
      "hi\n",
      "hi\n",
      "hi\n",
      "hi\n",
      "hi\n",
      "hi\n",
      "hi\n",
      "hi\n",
      "hi\n",
      "hi\n",
      "hi\n",
      "hi\n",
      "hi\n",
      "hi\n",
      "hi\n",
      "hi\n",
      "hi\n",
      "hi\n",
      "hi\n",
      "hi\n",
      "hi\n",
      "hi\n",
      "hi\n",
      "hi\n",
      "hi\n",
      "hi\n",
      "hi\n",
      "hi\n",
      "hi\n",
      "hi\n",
      "hi\n",
      "hi\n",
      "hi\n",
      "hi\n",
      "hi\n",
      "hi\n",
      "hi\n",
      "hi\n",
      "hi\n",
      "hi\n",
      "hi\n",
      "hi\n",
      "hi\n",
      "hi\n",
      "hi\n",
      "hi\n",
      "hi\n",
      "hi\n",
      "hi\n",
      "hi\n",
      "hi\n",
      "hi\n",
      "hi\n",
      "hi\n",
      "hi\n",
      "hi\n",
      "hi\n",
      "hi\n",
      "hi\n",
      "hi\n",
      "hi\n",
      "hi\n",
      "hi\n",
      "hi\n",
      "hi\n",
      "hi\n",
      "hi\n",
      "hi\n",
      "hi\n",
      "hi\n",
      "hi\n",
      "hi\n",
      "hi\n",
      "hi\n",
      "hi\n",
      "hi\n",
      "hi\n",
      "hi\n",
      "hi\n",
      "hi\n",
      "hi\n",
      "hi\n",
      "hi\n",
      "hi\n",
      "hi\n",
      "hi\n",
      "hi\n",
      "hi\n",
      "hi\n",
      "hi\n",
      "hi\n",
      "hi\n",
      "hi\n",
      "hi\n",
      "hi\n",
      "hi\n",
      "hi\n",
      "hi\n",
      "hi\n",
      "hi\n",
      "hi\n",
      "hi\n",
      "hi\n",
      "hi\n",
      "hi\n",
      "hi\n",
      "hi\n",
      "hi\n",
      "hi\n",
      "hi\n",
      "hi\n",
      "hi\n",
      "hi\n",
      "hi\n",
      "hi\n",
      "hi\n",
      "hi\n",
      "hi\n",
      "hi\n",
      "hi\n",
      "hi\n",
      "hi\n",
      "hi\n",
      "hi\n",
      "hi\n",
      "hi\n",
      "hi\n",
      "hi\n",
      "hi\n",
      "hi\n",
      "hi\n",
      "hi\n",
      "hi\n",
      "hi\n",
      "hi\n",
      "hi\n",
      "hi\n",
      "hi\n",
      "hi\n",
      "hi\n",
      "hi\n",
      "hi\n",
      "hi\n",
      "hi\n",
      "hi\n",
      "hi\n",
      "hi\n",
      "hi\n",
      "hi\n",
      "hi\n",
      "hi\n",
      "hi\n",
      "hi\n",
      "hi\n",
      "hi\n",
      "hi\n",
      "hi\n",
      "hi\n",
      "hi\n",
      "hi\n",
      "hi\n",
      "hi\n",
      "hi\n",
      "hi\n",
      "hi\n",
      "hi\n",
      "hi\n",
      "hi\n",
      "hi\n",
      "hi\n",
      "hi\n",
      "hi\n",
      "hi\n",
      "hi\n",
      "hi\n",
      "hi\n",
      "hi\n",
      "hi\n",
      "hi\n",
      "hi\n",
      "hi\n",
      "hi\n",
      "hi\n",
      "hi\n",
      "hi\n",
      "hi\n",
      "hi\n",
      "hi\n",
      "hi\n",
      "hi\n",
      "hi\n",
      "hi\n",
      "hi\n",
      "hi\n",
      "hi\n",
      "hi\n",
      "hi\n",
      "hi\n",
      "hi\n",
      "hi\n",
      "hi\n",
      "hi\n",
      "hi\n",
      "hi\n",
      "hi\n",
      "hi\n",
      "hi\n",
      "hi\n",
      "hi\n",
      "hi\n",
      "hi\n",
      "hi\n",
      "hi\n",
      "hi\n",
      "hi\n",
      "hi\n",
      "hi\n",
      "hi\n",
      "hi\n",
      "hi\n",
      "hi\n",
      "hi\n",
      "hi\n",
      "hi\n",
      "hi\n",
      "hi\n",
      "hi\n",
      "hi\n",
      "hi\n",
      "hi\n",
      "hi\n",
      "hi\n",
      "hi\n",
      "hi\n",
      "hi\n",
      "hi\n",
      "hi\n",
      "hi\n",
      "hi\n",
      "hi\n",
      "hi\n",
      "hi\n",
      "hi\n",
      "hi\n",
      "hi\n",
      "hi\n",
      "hi\n",
      "hi\n",
      "hi\n",
      "hi\n",
      "hi\n",
      "hi\n",
      "hi\n",
      "hi\n",
      "hi\n",
      "hi\n",
      "hi\n",
      "hi\n",
      "hi\n",
      "hi\n",
      "hi\n",
      "hi\n",
      "hi\n",
      "hi\n",
      "hi\n",
      "hi\n",
      "hi\n",
      "hi\n",
      "hi\n",
      "hi\n",
      "hi\n",
      "hi\n",
      "hi\n",
      "hi\n",
      "hi\n",
      "hi\n",
      "hi\n",
      "hi\n",
      "hi\n",
      "hi\n",
      "hi\n",
      "hi\n",
      "hi\n",
      "hi\n",
      "hi\n",
      "hi\n",
      "hi\n",
      "hi\n",
      "hi\n",
      "hi\n",
      "hi\n",
      "hi\n",
      "hi\n",
      "hi\n",
      "hi\n",
      "hi\n",
      "hi\n",
      "hi\n",
      "hi\n",
      "hi\n",
      "hi\n",
      "hi\n",
      "hi\n",
      "hi\n",
      "hi\n",
      "hi\n",
      "hi\n",
      "hi\n",
      "hi\n",
      "hi\n",
      "hi\n",
      "hi\n",
      "hi\n",
      "hi\n",
      "hi\n",
      "hi\n",
      "hi\n",
      "hi\n",
      "hi\n",
      "hi\n",
      "hi\n",
      "hi\n",
      "hi\n",
      "hi\n",
      "hi\n",
      "hi\n",
      "hi\n",
      "hi\n",
      "hi\n",
      "hi\n",
      "hi\n",
      "hi\n",
      "hi\n",
      "hi\n",
      "hi\n",
      "hi\n",
      "hi\n",
      "hi\n",
      "hi\n",
      "hi\n",
      "hi\n",
      "hi\n",
      "hi\n",
      "hi\n",
      "hi\n",
      "hi\n",
      "hi\n",
      "hi\n",
      "hi\n",
      "hi\n",
      "hi\n",
      "hi\n",
      "hi\n",
      "hi\n",
      "hi\n",
      "hi\n",
      "hi\n",
      "hi\n",
      "hi\n",
      "hi\n",
      "hi\n",
      "hi\n",
      "hi\n",
      "hi\n",
      "hi\n",
      "hi\n",
      "hi\n",
      "hi\n",
      "hi\n",
      "hi\n",
      "hi\n",
      "hi\n",
      "hi\n",
      "hi\n",
      "hi\n",
      "hi\n",
      "hi\n",
      "hi\n",
      "hi\n",
      "hi\n",
      "hi\n",
      "hi\n",
      "hi\n",
      "hi\n",
      "hi\n"
     ]
    }
   ],
   "source": [
    "doNothing()"
   ]
  },
  {
   "cell_type": "markdown",
   "metadata": {},
   "source": [
    "## Classes"
   ]
  },
  {
   "cell_type": "code",
   "execution_count": 121,
   "metadata": {},
   "outputs": [],
   "source": [
    "class Calculator:\n",
    "    a = None\n",
    "    b = None\n",
    "    \n",
    "    def __init__(self, a, b, brand= \"Russel Mendes\"):\n",
    "        self.a = a\n",
    "        self.b = b\n",
    "        self.brand = brand\n",
    "        \n",
    "    def add(self):\n",
    "        return self.a + self.b\n",
    "\n",
    "    def divide(self):\n",
    "        return self.a/self.b\n",
    "\n",
    "    def multiply(self):\n",
    "        return self.a*self.b\n",
    "\n",
    "    def subtract(self):\n",
    "        return self.a-self.b\n"
   ]
  },
  {
   "cell_type": "code",
   "execution_count": 124,
   "metadata": {},
   "outputs": [
    {
     "name": "stdout",
     "output_type": "stream",
     "text": [
      "Addition 20\n",
      "Division 1.0\n",
      "Multiply 100\n",
      "Subtract 0\n"
     ]
    }
   ],
   "source": [
    "a, b = 10 , 10\n",
    "x = Calculator(a,b)\n",
    "print(\"X Addition\", x.add())\n",
    "print(\"X Division\", x.divide())\n",
    "print(\"X Multiply\", x.multiply())\n",
    "print(\"X Subtract\", x.subtract())"
   ]
  },
  {
   "cell_type": "code",
   "execution_count": 125,
   "metadata": {},
   "outputs": [
    {
     "name": "stdout",
     "output_type": "stream",
     "text": [
      "Y Addition 51\n",
      "Y Division 2.1875\n",
      "Y Multiply 560\n",
      "Y Subtract 19\n"
     ]
    }
   ],
   "source": [
    "a, b = 35, 16\n",
    "y = Calculator(a,b)\n",
    "print(\"Y Addition\", y.add())\n",
    "print(\"Y Division\", y.divide())\n",
    "print(\"Y Multiply\", y.multiply())\n",
    "print(\"Y Subtract\", y.subtract())"
   ]
  },
  {
   "cell_type": "code",
   "execution_count": 126,
   "metadata": {},
   "outputs": [
    {
     "name": "stdout",
     "output_type": "stream",
     "text": [
      "X Addition 20\n",
      "X Division 1.0\n",
      "X Multiply 100\n",
      "X Subtract 0\n"
     ]
    }
   ],
   "source": [
    "#They each have their own copy of information\n",
    "print(\"X Addition\", x.add())\n",
    "print(\"X Division\", x.divide())\n",
    "print(\"X Multiply\", x.multiply())\n",
    "print(\"X Subtract\", x.subtract())"
   ]
  },
  {
   "cell_type": "code",
   "execution_count": null,
   "metadata": {},
   "outputs": [],
   "source": []
  }
 ],
 "metadata": {
  "kernelspec": {
   "display_name": "Python 3",
   "language": "python",
   "name": "python3"
  },
  "language_info": {
   "codemirror_mode": {
    "name": "ipython",
    "version": 3
   },
   "file_extension": ".py",
   "mimetype": "text/x-python",
   "name": "python",
   "nbconvert_exporter": "python",
   "pygments_lexer": "ipython3",
   "version": "3.7.4"
  }
 },
 "nbformat": 4,
 "nbformat_minor": 2
}
