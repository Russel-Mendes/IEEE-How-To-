{
 "cells": [
  {
   "cell_type": "markdown",
   "metadata": {},
   "source": [
    "# Hangman\n",
    "* Set a secret word\n",
    "* Make sure that only the alphabet is allowed\n",
    "* Give them X amount of chances"
   ]
  },
  {
   "cell_type": "code",
   "execution_count": 4,
   "metadata": {},
   "outputs": [],
   "source": [
    "class HangMan():\n",
    "    SECRET_ITEM = \"ieee is awesome\"\n",
    "    ALLOWED_TRIES = None\n",
    "    GUESSED_ITEMS = []\n",
    "    \n",
    "    def __init__(self, ALLOWED_TRIES = 5):\n",
    "        self.ALLOWED_TRIES = ALLOWED_TRIES\n",
    "    \n",
    "    def get_input(self):\n",
    "        isValid = False\n",
    "        while(True):\n",
    "            print(\"Please guess a letter\")\n",
    "            x = input()\n",
    "            isValid = x.isalnum()\n",
    "            if not isValid:\n",
    "                print(\"This input is invalid: \", x)\n",
    "            elif x in self.GUESSED_ITEMS:\n",
    "                print(\"This input is already guessed. Try again\")\n",
    "            else:\n",
    "\n",
    "                break\n",
    "        self.GUESSED_ITEMS.append(x)\n",
    "        return x   \n",
    "    \n",
    "    def show_filled(self):\n",
    "        show_string = \"\"\n",
    "        for char in self.SECRET_ITEM:\n",
    "            if char in self.GUESSED_ITEMS:\n",
    "                show_string += char\n",
    "            else:\n",
    "                if char == ' ':\n",
    "                    show_string += \" \" \n",
    "                else: \n",
    "                    show_string += \"_\"\n",
    "        return show_string    \n",
    "    \n",
    "    def start_game(self):\n",
    "        tries = 0\n",
    "        while(tries < self.ALLOWED_TRIES):\n",
    "            guess = self.get_input()\n",
    "            if guess in self.SECRET_ITEM:\n",
    "                print(\"Good Job: Here is the current state\")\n",
    "            else:\n",
    "                print(\"Sorry. Wrong Answer\")\n",
    "                print(\"You Have This Many Lives: \", self.ALLOWED_TRIES -tries-1)\n",
    "                tries += 1\n",
    "            show_string = self.show_filled()\n",
    "            print(\"You Guessed: \", self.GUESSED_ITEMS)\n",
    "            print(show_string)\n",
    "            if \"_\" not in show_string:\n",
    "                print(\"Congrats You Win\")\n",
    "                break\n",
    "            \n",
    "            print()    \n",
    "            print(\"++++++++++++++++++++++++++++\")\n",
    "            print()\n",
    "            \n",
    "        "
   ]
  },
  {
   "cell_type": "code",
   "execution_count": 5,
   "metadata": {},
   "outputs": [],
   "source": [
    "x = HangMan(5)"
   ]
  },
  {
   "cell_type": "code",
   "execution_count": null,
   "metadata": {},
   "outputs": [
    {
     "name": "stdout",
     "output_type": "stream",
     "text": [
      "Please guess a letter\n"
     ]
    }
   ],
   "source": [
    "x.start_game()"
   ]
  },
  {
   "cell_type": "code",
   "execution_count": null,
   "metadata": {},
   "outputs": [],
   "source": []
  },
  {
   "cell_type": "code",
   "execution_count": null,
   "metadata": {},
   "outputs": [],
   "source": []
  }
 ],
 "metadata": {
  "kernelspec": {
   "display_name": "Python 3",
   "language": "python",
   "name": "python3"
  },
  "language_info": {
   "codemirror_mode": {
    "name": "ipython",
    "version": 3
   },
   "file_extension": ".py",
   "mimetype": "text/x-python",
   "name": "python",
   "nbconvert_exporter": "python",
   "pygments_lexer": "ipython3",
   "version": "3.7.4"
  }
 },
 "nbformat": 4,
 "nbformat_minor": 2
}
